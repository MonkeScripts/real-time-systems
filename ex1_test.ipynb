{
 "cells": [
  {
   "cell_type": "code",
   "execution_count": 9,
   "metadata": {},
   "outputs": [],
   "source": [
    "from VSS import *"
   ]
  },
  {
   "cell_type": "markdown",
   "metadata": {},
   "source": [
    "## Test case 1"
   ]
  },
  {
   "cell_type": "code",
   "execution_count": 10,
   "metadata": {},
   "outputs": [
    {
     "name": "stdout",
     "output_type": "stream",
     "text": [
      "wcrt for task1 is 3.0\n",
      "\n",
      "wcrt for task2 is 9.0\n",
      "\n",
      "wcrt for task3 is 6.0\n",
      "\n"
     ]
    }
   ],
   "source": [
    "# Test case with two tasks\n",
    "tasks = [\n",
    "    Task(1, 10, 2, 3),  # τ₁\n",
    "    Task(2, 20, 2, 3),\n",
    "    Task(3, 15, 2, 3)\n",
    "]\n",
    "simulation_time = 40\n",
    "simulator = VSS(tasks, simulation_time)\n",
    "simulator.simulate()\n",
    "simulator.print_wcrt()\n",
    "history = simulator.history"
   ]
  },
  {
   "cell_type": "code",
   "execution_count": 11,
   "metadata": {},
   "outputs": [
    {
     "data": {
      "image/png": "[encoded data removed]",
      "text/plain": [
       "<Figure size 1000x600 with 1 Axes>"
      ]
     },
     "metadata": {},
     "output_type": "display_data"
    }
   ],
   "source": [
    "fig, ax = plt.subplots(figsize=(10, 2 * len(tasks)))\n",
    "\n",
    "# Colors for tasks\n",
    "colors = {1: 'green', 2: 'cyan', 3: 'purple'}\n",
    "\n",
    "labeled_jobs = set()\n",
    "\n",
    "# Plot execution periods\n",
    "for task_id, job_id, start, end in history:\n",
    "    if task_id != 0: \n",
    "        bar = ax.broken_barh(\n",
    "            [(start, end - start)],\n",
    "            (task_id * 10 - 5, 10),\n",
    "            facecolors=colors.get(task_id, 'blue'),\n",
    "            edgecolors='black',\n",
    "        )\n",
    "\n",
    "        if (task_id, job_id) not in labeled_jobs:\n",
    "            job_segments = [\n",
    "                (s, e) for t, j, s, e in history\n",
    "                if t == task_id and j == job_id\n",
    "            ]\n",
    "            if job_segments:\n",
    "                label_x = job_segments[0][0]\n",
    "                ax.text(\n",
    "                    label_x, task_id * 10 + 5, f\"J{job_id}\",\n",
    "                    color='black', fontsize=8, verticalalignment='bottom'\n",
    "                )\n",
    "                labeled_jobs.add((task_id, job_id))\n",
    "\n",
    "for task in tasks:\n",
    "    for job in task.jobs:\n",
    "        ax.axvline(x=job.release_time, color='black', linestyle='-', linewidth=1)\n",
    "\n",
    "ax.set_ylim(0, (len(tasks) * 10) + 5)\n",
    "ax.set_xlim(0, simulation_time)\n",
    "ax.set_yticks([i * 10 for i in range(1, len(tasks) + 1)])\n",
    "ax.set_yticklabels([f'τ{i}' for i in range(1, len(tasks) + 1)])\n",
    "ax.set_xlabel('Time')\n",
    "\n",
    "ax.spines['top'].set_visible(False)\n",
    "ax.spines['right'].set_visible(False)\n",
    "ax.spines['left'].set_position(('outward', 10))\n",
    "ax.spines['bottom'].set_position(('outward', 10))\n",
    "\n",
    "ax.annotate('', xy=(simulation_time, 0), xytext=(0, 0),\n",
    "        xycoords='data', textcoords='data',\n",
    "        arrowprops=dict(arrowstyle='->', lw=1.5))\n",
    "ax.annotate('', xy=(0, 0), xytext=(simulation_time, 0),\n",
    "        xycoords='data', textcoords='data',\n",
    "        arrowprops=dict(arrowstyle='<-', lw=1.5))\n",
    "\n",
    "plt.tight_layout()\n",
    "plt.show()"
   ]
  }
 ],
 "metadata": {
  "kernelspec": {
   "display_name": "usr",
   "language": "python",
   "name": "python3"
  },
  "language_info": {
   "codemirror_mode": {
    "name": "ipython",
    "version": 3
   },
   "file_extension": ".py",
   "mimetype": "text/x-python",
   "name": "python",
   "nbconvert_exporter": "python",
   "pygments_lexer": "ipython3",
   "version": "3.10.12"
  }
 },
 "nbformat": 4,
 "nbformat_minor": 2
}
