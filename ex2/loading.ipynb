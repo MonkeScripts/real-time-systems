{
 "cells": [
  {
   "cell_type": "code",
   "execution_count": 3,
   "id": "f9c6924b",
   "metadata": {},
   "outputs": [],
   "source": [
    "import pandas as pd"
   ]
  },
  {
   "cell_type": "code",
   "execution_count": 12,
   "id": "e0e2a0ba",
   "metadata": {},
   "outputs": [
    {
     "name": "stdout",
     "output_type": "stream",
     "text": [
      "Core_1 0.62 RM\n"
     ]
    }
   ],
   "source": [
    "test = pd.read_csv(\n",
    "    \"../DRTS_Project-Test-Cases/1-tiny-test-case/architecture.csv\")\n",
    "test_list = []\n",
    "for _, row in test.iterrows():\n",
    "    print(row[\"core_id\"], row['speed_factor'], row['scheduler'])\n"
   ]
  }
 ],
 "metadata": {
  "kernelspec": {
   "display_name": "Python 3",
   "language": "python",
   "name": "python3"
  },
  "language_info": {
   "codemirror_mode": {
    "name": "ipython",
    "version": 3
   },
   "file_extension": ".py",
   "mimetype": "text/x-python",
   "name": "python",
   "nbconvert_exporter": "python",
   "pygments_lexer": "ipython3",
   "version": "3.10.12"
  }
 },
 "nbformat": 4,
 "nbformat_minor": 5
}
