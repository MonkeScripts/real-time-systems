{
 "cells": [
  {
   "cell_type": "code",
   "execution_count": 1,
   "id": "69d5c543",
   "metadata": {},
   "outputs": [],
   "source": [
    "import math\n",
    "import numpy as np\n",
    "import pandas as pd\n",
    "from task import Task\n",
    "from component import Component\n",
    "from core import Core\n",
    "from system import System\n",
    "from simulator import Simulator"
   ]
  },
  {
   "cell_type": "markdown",
   "id": "344b9e7d",
   "metadata": {},
   "source": [
    "## Read csv"
   ]
  },
  {
   "cell_type": "code",
   "execution_count": 2,
   "id": "a077f3fe",
   "metadata": {},
   "outputs": [],
   "source": [
    "small_test_arch_path = \"../DRTS_Project-Test-Cases/2-small-test-case/architecture.csv\"\n",
    "small_test_budgets_path = \"../DRTS_Project-Test-Cases/2-small-test-case/budgets.csv\"\n",
    "small_test_tasks_path = \"../DRTS_Project-Test-Cases/2-small-test-case/tasks.csv\""
   ]
  },
  {
   "cell_type": "markdown",
   "id": "8460c563",
   "metadata": {},
   "source": [
    "## Test System class"
   ]
  },
  {
   "cell_type": "code",
   "execution_count": 3,
   "id": "978ebdfe",
   "metadata": {},
   "outputs": [
    {
     "name": "stdout",
     "output_type": "stream",
     "text": [
      "loaded dataframes: \n",
      "  core_id  speed_factor scheduler\n",
      "0  Core_1          0.62       EDF\n",
      "      component_id scheduler  budget  period core_id  priority\n",
      "0    Camera_Sensor        RM       4       7  Core_1       NaN\n",
      "1  Image_Processor       EDF       5      16  Core_1       NaN\n",
      "  task_name  wcet  period     component_id  priority\n",
      "0    Task_0     3     150    Camera_Sensor       1.0\n",
      "1    Task_1    28     200    Camera_Sensor       2.0\n",
      "2    Task_2     2      50    Camera_Sensor       0.0\n",
      "3    Task_3    24     300    Camera_Sensor       3.0\n",
      "4    Task_4     2     200  Image_Processor       NaN\n",
      "5    Task_5    11     200  Image_Processor       NaN\n",
      "6    Task_6    17     400  Image_Processor       NaN\n",
      "7    Task_7    13     300  Image_Processor       NaN\n",
      "8    Task_8     3     150  Image_Processor       NaN\n"
     ]
    },
    {
     "data": {
      "text/plain": [
       "({'Task_0': <task.Task at 0x719c5e4194b0>,\n",
       "  'Task_1': <task.Task at 0x719c5e419480>,\n",
       "  'Task_2': <task.Task at 0x719c5e41b790>,\n",
       "  'Task_3': <task.Task at 0x719c1d43ac50>,\n",
       "  'Task_4': <task.Task at 0x719c5e41b400>,\n",
       "  'Task_5': <task.Task at 0x719c1d43a500>,\n",
       "  'Task_6': <task.Task at 0x719c1d438ee0>,\n",
       "  'Task_7': <task.Task at 0x719c1d43a470>,\n",
       "  'Task_8': <task.Task at 0x719c1d43acb0>},\n",
       " {'Camera_Sensor': <component.Component at 0x719c5e41b520>,\n",
       "  'Image_Processor': <component.Component at 0x719c5e41bc10>},\n",
       " {'Core_1': <core.Core at 0x719c5e41b610>})"
      ]
     },
     "execution_count": 3,
     "metadata": {},
     "output_type": "execute_result"
    }
   ],
   "source": [
    "small_system = System(tasks_file=small_test_tasks_path, arch_file=small_test_arch_path, budgets_file=small_test_budgets_path)\n",
    "small_system.tasks, small_system.components, small_system.cores"
   ]
  },
  {
   "cell_type": "code",
   "execution_count": 4,
   "metadata": {},
   "outputs": [
    {
     "data": {
      "text/plain": [
       "(0.5714285714285714, 6)"
      ]
     },
     "execution_count": 4,
     "metadata": {},
     "output_type": "execute_result"
    }
   ],
   "source": [
    "def half_half_algorithm(budget: float, period: float):\n",
    "    \"\"\"\n",
    "    Implements the Half-Half Algorithm for real-time systems.\n",
    "    This algorithm calculates two parameters, alpha and delta, based on\n",
    "    the given budget and period. These parameters can be used for\n",
    "    scheduling or resource allocation in real-time systems.\n",
    "    Parameters:\n",
    "    -----------\n",
    "    budget : float\n",
    "        The allocated execution time or computational budget.\n",
    "    period : float\n",
    "        The time period over which the budget is allocated.\n",
    "    Returns:\n",
    "    --------\n",
    "    alpha : represents the utilization factor, calculated as the ratio\n",
    "        of budget to period.\n",
    "    delta : represents a derived parameter, calculated as twice the\n",
    "        difference between the period and the budget.\n",
    "    \"\"\"\n",
    "    alpha = budget / period\n",
    "    delta = 2 * (period - budget)\n",
    "    return alpha, delta\n",
    "\n",
    "\n",
    "half_half_algorithm(budget=4, period=7)"
   ]
  },
  {
   "cell_type": "code",
   "execution_count": 5,
   "id": "7379155c",
   "metadata": {},
   "outputs": [
    {
     "name": "stdout",
     "output_type": "stream",
     "text": [
      "Core_1\n",
      "Component(id=Camera_Sensor, scheduler=RM, budget=4, period=7, core_id=Core_1, priority=0.14285714285714285, tasks=4, bdr_alpha=0.57, bdr_delta=6.00)\n",
      "Component(id=Image_Processor, scheduler=EDF, budget=5, period=16, core_id=Core_1, priority=0.0625, tasks=5, bdr_alpha=0.31, bdr_delta=22.00)\n"
     ]
    }
   ],
   "source": [
    "for core_name, core in small_system.cores.items():\n",
    "    print(core_name)\n",
    "    for component in core.components:\n",
    "        print(component)"
   ]
  },
  {
   "cell_type": "code",
   "execution_count": 6,
   "id": "37d91690",
   "metadata": {},
   "outputs": [
    {
     "name": "stdout",
     "output_type": "stream",
     "text": [
      "Camera_Sensor\n",
      "task Task_0 with wcet:3, period:150, component_id:Camera_Sensor, priority1.0\n",
      "task Task_1 with wcet:28, period:200, component_id:Camera_Sensor, priority2.0\n",
      "task Task_2 with wcet:2, period:50, component_id:Camera_Sensor, priority0.0\n",
      "task Task_3 with wcet:24, period:300, component_id:Camera_Sensor, priority3.0\n",
      "Image_Processor\n",
      "task Task_4 with wcet:2, period:200, component_id:Image_Processor, priority0.005\n",
      "task Task_5 with wcet:11, period:200, component_id:Image_Processor, priority0.005\n",
      "task Task_6 with wcet:17, period:400, component_id:Image_Processor, priority0.0025\n",
      "task Task_7 with wcet:13, period:300, component_id:Image_Processor, priority0.0033333333333333335\n",
      "task Task_8 with wcet:3, period:150, component_id:Image_Processor, priority0.006666666666666667\n"
     ]
    }
   ],
   "source": [
    "for component_name, component in small_system.components.items():\n",
    "    print(f\"{component_name}\")\n",
    "    for task in component.tasks:\n",
    "        print(task)"
   ]
  },
  {
   "cell_type": "markdown",
   "id": "3c4e3e64",
   "metadata": {},
   "source": [
    "## Test simulator class"
   ]
  },
  {
   "cell_type": "code",
   "execution_count": 7,
   "id": "3fa60f40",
   "metadata": {},
   "outputs": [],
   "source": [
    "small_simulator = Simulator(small_system)"
   ]
  },
  {
   "cell_type": "code",
   "execution_count": 8,
   "metadata": {},
   "outputs": [
    {
     "name": "stdout",
     "output_type": "stream",
     "text": [
      "Running simulation until hyperperiod: 1200\n",
      "Active components at time 0: ['Camera_Sensor', 'Image_Processor']\n",
      "Scheduled components at time 0: ['Camera_Sensor', 'Image_Processor']\n",
      "Processing component: Component(id=Camera_Sensor, scheduler=RM, budget=4, period=7, core_id=Core_1, priority=0.14285714285714285, tasks=4, bdr_alpha=0.57, bdr_delta=6.00)\n",
      "Component Camera_Sensor: period is given by bdr_delta / 2 = 3.0, budget = 1.7142857142857142\n",
      "Task Task_3 (instance 0) completed, response_time: 107.70967741935478, all response_times: [107.70967741935478]\n",
      "Task Task_3 (instance 1) completed, response_time: 104.70967741935522, all response_times: [107.70967741935478, 104.70967741935522]\n",
      "Task Task_1 (instance 2) completed, response_time: 127.87096774193594, all response_times: [127.87096774193594]\n",
      "Task Task_0 (instance 3) completed, response_time: 91.70967741935522, all response_times: [91.70967741935522]\n",
      "ALL tasks done!\n",
      "DONE with this component\n",
      "Processing component: Component(id=Image_Processor, scheduler=EDF, budget=5, period=16, core_id=Core_1, priority=0.0625, tasks=5, bdr_alpha=0.31, bdr_delta=22.00)\n",
      "Component Image_Processor: period is given by bdr_delta / 2 = 11.0, budget = 3.4375\n",
      "Task Task_4 (instance 2) completed, response_time: 156.3686635944705, all response_times: [156.3686635944705]\n",
      "Task Task_8 (instance 4) completed, response_time: 26.731566820276953, all response_times: [26.731566820276953]\n",
      "Task Task_4 (instance 3) completed, response_time: 40.95737327188988, all response_times: [156.3686635944705, 40.95737327188988]\n",
      "Task Task_5 (instance 3) completed, response_time: 113.69930875576074, all response_times: [113.69930875576074]\n",
      "Task Task_7 (instance 2) completed, response_time: 299.98559907834147, all response_times: [299.98559907834147]\n",
      "Task Task_4 (instance 4) completed, response_time: 117.30616359447049, all response_times: [156.3686635944705, 40.95737327188988, 117.30616359447049]\n",
      "Task Task_8 (instance 6) completed, response_time: 116.54406682027695, all response_times: [26.731566820276953, 116.54406682027695]\n",
      "Task Task_4 (instance 5) completed, response_time: 30.769873271889765, all response_times: [156.3686635944705, 40.95737327188988, 117.30616359447049, 30.769873271889765]\n",
      "Task Task_5 (instance 5) completed, response_time: 103.51180875576074, all response_times: [113.69930875576074, 103.51180875576074]\n"
     ]
    }
   ],
   "source": [
    "small_simulator.run_simulation()"
   ]
  },
  {
   "cell_type": "code",
   "execution_count": 9,
   "id": "82dd35e7",
   "metadata": {},
   "outputs": [
    {
     "name": "stdout",
     "output_type": "stream",
     "text": [
      "Camera_Sensor\n",
      "[91.70967741935522]\n",
      "[127.87096774193594]\n",
      "[]\n",
      "[107.70967741935478, 104.70967741935522]\n",
      "Image_Processor\n",
      "[156.3686635944705, 40.95737327188988, 117.30616359447049, 30.769873271889765]\n",
      "[113.69930875576074, 103.51180875576074]\n",
      "[]\n",
      "[299.98559907834147]\n",
      "[26.731566820276953, 116.54406682027695]\n"
     ]
    }
   ],
   "source": [
    "for component_name, component in small_system.components.items():\n",
    "    print(f\"{component_name}\")\n",
    "    for task in component.tasks:\n",
    "        print(task.response_times)"
   ]
  },
  {
   "cell_type": "code",
   "execution_count": 10,
   "id": "e431e67f",
   "metadata": {},
   "outputs": [
    {
     "name": "stdout",
     "output_type": "stream",
     "text": [
      "Generated sim results\n"
     ]
    }
   ],
   "source": [
    "small_simulator.report(\"results_small.csv\")"
   ]
  }
 ],
 "metadata": {
  "kernelspec": {
   "display_name": "Python 3",
   "language": "python",
   "name": "python3"
  },
  "language_info": {
   "codemirror_mode": {
    "name": "ipython",
    "version": 3
   },
   "file_extension": ".py",
   "mimetype": "text/x-python",
   "name": "python",
   "nbconvert_exporter": "python",
   "pygments_lexer": "ipython3",
   "version": "3.10.12"
  }
 },
 "nbformat": 4,
 "nbformat_minor": 5
}
