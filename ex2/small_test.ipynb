{
 "cells": [
  {
   "cell_type": "code",
   "execution_count": 7,
   "id": "69d5c543",
   "metadata": {},
   "outputs": [],
   "source": [
    "import math\n",
    "import numpy as np\n",
    "import pandas as pd\n",
    "from task import Task\n",
    "from component import Component\n",
    "from core import Core\n",
    "from system import System\n",
    "from simulator import Simulator"
   ]
  },
  {
   "cell_type": "markdown",
   "id": "344b9e7d",
   "metadata": {},
   "source": [
    "## Read csv"
   ]
  },
  {
   "cell_type": "code",
   "execution_count": 8,
   "id": "a077f3fe",
   "metadata": {},
   "outputs": [],
   "source": [
    "small_test_arch_path = \"../DRTS_Project-Test-Cases/2-small-test-case/architecture.csv\"\n",
    "small_test_budgets_path = \"../DRTS_Project-Test-Cases/2-small-test-case/budgets.csv\"\n",
    "small_test_tasks_path = \"../DRTS_Project-Test-Cases/2-small-test-case/tasks.csv\""
   ]
  },
  {
   "cell_type": "markdown",
   "id": "8460c563",
   "metadata": {},
   "source": [
    "## Test System class"
   ]
  },
  {
   "cell_type": "code",
   "execution_count": 9,
   "id": "978ebdfe",
   "metadata": {},
   "outputs": [
    {
     "name": "stdout",
     "output_type": "stream",
     "text": [
      "loaded dataframes: \n",
      "  core_id  speed_factor scheduler\n",
      "0  Core_1          0.62       EDF\n",
      "    component_id scheduler  budget  period core_id  priority\n",
      "0  Camera_Sensor        RM       4       7  Core_1       NaN\n",
      "  task_name  wcet  period   component_id  priority\n",
      "0    Task_0     3     150  Camera_Sensor         1\n",
      "1    Task_1    28     200  Camera_Sensor         2\n",
      "2    Task_2     2      50  Camera_Sensor         0\n",
      "3    Task_3    24     300  Camera_Sensor         3\n"
     ]
    },
    {
     "data": {
      "text/plain": [
       "({'Task_0': <task.Task at 0x73a8603c35e0>,\n",
       "  'Task_1': <task.Task at 0x73a8603c2320>,\n",
       "  'Task_2': <task.Task at 0x73a8603c33d0>,\n",
       "  'Task_3': <task.Task at 0x73a8603c13c0>},\n",
       " {'Camera_Sensor': <component.Component at 0x73a8603c2650>},\n",
       " {'Core_1': <core.Core at 0x73a811b59d20>})"
      ]
     },
     "execution_count": 9,
     "metadata": {},
     "output_type": "execute_result"
    }
   ],
   "source": [
    "small_system = System(tasks_file=small_test_tasks_path, arch_file=small_test_arch_path, budgets_file=small_test_budgets_path)\n",
    "small_system.tasks, small_system.components, small_system.cores"
   ]
  },
  {
   "cell_type": "code",
   "execution_count": 10,
   "metadata": {},
   "outputs": [
    {
     "data": {
      "text/plain": [
       "(0.5714285714285714, 6)"
      ]
     },
     "execution_count": 10,
     "metadata": {},
     "output_type": "execute_result"
    }
   ],
   "source": [
    "def half_half_algorithm(budget: float, period: float):\n",
    "    \"\"\"\n",
    "    Implements the Half-Half Algorithm for real-time systems.\n",
    "    This algorithm calculates two parameters, alpha and delta, based on\n",
    "    the given budget and period. These parameters can be used for\n",
    "    scheduling or resource allocation in real-time systems.\n",
    "    Parameters:\n",
    "    -----------\n",
    "    budget : float\n",
    "        The allocated execution time or computational budget.\n",
    "    period : float\n",
    "        The time period over which the budget is allocated.\n",
    "    Returns:\n",
    "    --------\n",
    "    alpha : represents the utilization factor, calculated as the ratio\n",
    "        of budget to period.\n",
    "    delta : represents a derived parameter, calculated as twice the\n",
    "        difference between the period and the budget.\n",
    "    \"\"\"\n",
    "    alpha = budget / period\n",
    "    delta = 2 * (period - budget)\n",
    "    return alpha, delta\n",
    "\n",
    "\n",
    "half_half_algorithm(budget=4, period=7)"
   ]
  },
  {
   "cell_type": "code",
   "execution_count": 11,
   "id": "7379155c",
   "metadata": {},
   "outputs": [
    {
     "name": "stdout",
     "output_type": "stream",
     "text": [
      "Core_1\n",
      "Component(id=Camera_Sensor, scheduler=RM, budget=4, period=7, core_id=Core_1, priority=0.14285714285714285, tasks=4, bdr_alpha=0.57, bdr_delta=6.00)\n"
     ]
    }
   ],
   "source": [
    "for core_name, core in small_system.cores.items():\n",
    "    print(core_name)\n",
    "    for component in core.components:\n",
    "        print(component)"
   ]
  },
  {
   "cell_type": "code",
   "execution_count": 12,
   "id": "37d91690",
   "metadata": {},
   "outputs": [
    {
     "name": "stdout",
     "output_type": "stream",
     "text": [
      "Camera_Sensor\n",
      "task Task_0 with wcet:3, period:150, component_id:Camera_Sensor, priority1\n",
      "task Task_1 with wcet:28, period:200, component_id:Camera_Sensor, priority2\n",
      "task Task_2 with wcet:2, period:50, component_id:Camera_Sensor, priority0\n",
      "task Task_3 with wcet:24, period:300, component_id:Camera_Sensor, priority3\n"
     ]
    }
   ],
   "source": [
    "for component_name, component in small_system.components.items():\n",
    "    print(f\"{component_name}\")\n",
    "    for task in component.tasks:\n",
    "        print(task)"
   ]
  },
  {
   "cell_type": "markdown",
   "id": "3c4e3e64",
   "metadata": {},
   "source": [
    "## Test simulator class"
   ]
  },
  {
   "cell_type": "code",
   "execution_count": 13,
   "id": "3fa60f40",
   "metadata": {},
   "outputs": [],
   "source": [
    "small_simulator = Simulator(small_system)"
   ]
  },
  {
   "cell_type": "code",
   "execution_count": null,
   "metadata": {},
   "outputs": [],
   "source": [
    "small_simulator.run_simulation()"
   ]
  },
  {
   "cell_type": "code",
   "execution_count": null,
   "id": "82dd35e7",
   "metadata": {},
   "outputs": [],
   "source": [
    "for component_name, component in small_system.components.items():\n",
    "    print(f\"{component_name}\")\n",
    "    for task in component.tasks:\n",
    "        print(task.response_times)"
   ]
  },
  {
   "cell_type": "code",
   "execution_count": null,
   "id": "e431e67f",
   "metadata": {},
   "outputs": [],
   "source": [
    "tiny_simulator.report(\"results_small.csv\")"
   ]
  }
 ],
 "metadata": {
  "kernelspec": {
   "display_name": "Python 3",
   "language": "python",
   "name": "python3"
  },
  "language_info": {
   "codemirror_mode": {
    "name": "ipython",
    "version": 3
   },
   "file_extension": ".py",
   "mimetype": "text/x-python",
   "name": "python",
   "nbconvert_exporter": "python",
   "pygments_lexer": "ipython3",
   "version": "3.10.12"
  }
 },
 "nbformat": 4,
 "nbformat_minor": 5
}
