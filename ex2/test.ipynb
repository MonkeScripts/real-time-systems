{
 "cells": [
  {
   "cell_type": "code",
   "execution_count": 1,
   "id": "69d5c543",
   "metadata": {},
   "outputs": [],
   "source": [
    "import math\n",
    "import numpy as np\n",
    "import pandas as pd\n",
    "from task import Task\n",
    "from component import Component\n",
    "from core import Core\n",
    "from system import System\n",
    "from simulator import Simulator"
   ]
  },
  {
   "cell_type": "markdown",
   "id": "344b9e7d",
   "metadata": {},
   "source": [
    "## Read csv"
   ]
  },
  {
   "cell_type": "code",
   "execution_count": 2,
   "id": "a077f3fe",
   "metadata": {},
   "outputs": [],
   "source": [
    "tiny_test_arch_path = \"../DRTS_Project-Test-Cases/1-tiny-test-case/architecture.csv\"\n",
    "tiny_test_budgets_path = \"../DRTS_Project-Test-Cases/1-tiny-test-case/budgets.csv\"\n",
    "tiny_test_tasks_path = \"../DRTS_Project-Test-Cases/1-tiny-test-case/tasks.csv\""
   ]
  },
  {
   "cell_type": "markdown",
   "id": "8460c563",
   "metadata": {},
   "source": [
    "## Test System class"
   ]
  },
  {
   "cell_type": "code",
   "execution_count": 3,
   "id": "978ebdfe",
   "metadata": {},
   "outputs": [
    {
     "name": "stdout",
     "output_type": "stream",
     "text": [
      "loaded dataframes: \n",
      "  core_id  speed_factor scheduler\n",
      "0  Core_1          0.62        RM\n",
      "    component_id scheduler  budget  period core_id  priority\n",
      "0  Camera_Sensor        RM      84      84  Core_1         0\n",
      "  task_name  wcet  period   component_id  priority\n",
      "0    Task_0    14      50  Camera_Sensor         0\n",
      "1    Task_1    33     100  Camera_Sensor         1\n"
     ]
    },
    {
     "data": {
      "text/plain": [
       "({'Task_0': <task.Task at 0x745600f5e8c0>,\n",
       "  'Task_1': <task.Task at 0x745600f5dd80>},\n",
       " {'Camera_Sensor': <component.Component at 0x745641531960>},\n",
       " {'Core_1': <core.Core at 0x745641530e50>})"
      ]
     },
     "execution_count": 3,
     "metadata": {},
     "output_type": "execute_result"
    }
   ],
   "source": [
    "tiny_system = System(tasks_file=tiny_test_tasks_path, arch_file=tiny_test_arch_path, budgets_file=tiny_test_budgets_path)\n",
    "tiny_system.tasks, tiny_system.components, tiny_system.cores"
   ]
  },
  {
   "cell_type": "code",
   "execution_count": 4,
   "id": "7379155c",
   "metadata": {},
   "outputs": [
    {
     "name": "stdout",
     "output_type": "stream",
     "text": [
      "Core_1\n",
      "Component(id=Camera_Sensor, scheduler=RM, budget=84, period=84, core_id=Core_1, priority=0, tasks=2, bdr_alpha=1.00, bdr_delta=0.00)\n"
     ]
    }
   ],
   "source": [
    "for core_name, core in tiny_system.cores.items():\n",
    "    print(core_name)\n",
    "    for component in core.components:\n",
    "        print(component)"
   ]
  },
  {
   "cell_type": "code",
   "execution_count": 5,
   "id": "37d91690",
   "metadata": {},
   "outputs": [
    {
     "name": "stdout",
     "output_type": "stream",
     "text": [
      "Camera_Sensor\n",
      "task Task_0 with wcet:14, period:50, component_id:Camera_Sensor, priority0\n",
      "task Task_1 with wcet:33, period:100, component_id:Camera_Sensor, priority1\n"
     ]
    }
   ],
   "source": [
    "for component_name, component in tiny_system.components.items():\n",
    "    print(f\"{component_name}\")\n",
    "    for task in component.tasks:\n",
    "        print(task)"
   ]
  },
  {
   "cell_type": "code",
   "execution_count": 6,
   "id": "59eb1487",
   "metadata": {},
   "outputs": [
    {
     "data": {
      "text/plain": [
       "(1.0, 0)"
      ]
     },
     "execution_count": 6,
     "metadata": {},
     "output_type": "execute_result"
    }
   ],
   "source": [
    "def half_half_algorithm(budget:float, period:float):\n",
    "    \"\"\"\n",
    "    Implements the Half-Half Algorithm for real-time systems.\n",
    "    This algorithm calculates two parameters, alpha and delta, based on \n",
    "    the given budget and period. These parameters can be used for \n",
    "    scheduling or resource allocation in real-time systems.\n",
    "    Parameters:\n",
    "    -----------\n",
    "    budget : float\n",
    "        The allocated execution time or computational budget.\n",
    "    period : float\n",
    "        The time period over which the budget is allocated.\n",
    "    Returns:\n",
    "    --------\n",
    "    alpha : represents the utilization factor, calculated as the ratio \n",
    "        of budget to period.\n",
    "    delta : represents a derived parameter, calculated as twice the \n",
    "        difference between the period and the budget.\n",
    "    \"\"\"\n",
    "    alpha = budget / period\n",
    "    delta = 2 * (period - budget)\n",
    "    return alpha, delta\n",
    "half_half_algorithm(84, 84)"
   ]
  },
  {
   "cell_type": "markdown",
   "id": "9ca8cf4b",
   "metadata": {},
   "source": [
    "Makes sense because this task takes up all the processing power with budget = 84 and period = 84"
   ]
  },
  {
   "cell_type": "markdown",
   "id": "3c4e3e64",
   "metadata": {},
   "source": [
    "## Test simulator class"
   ]
  },
  {
   "cell_type": "code",
   "execution_count": 7,
   "id": "3fa60f40",
   "metadata": {},
   "outputs": [
    {
     "name": "stdout",
     "output_type": "stream",
     "text": [
      "Running simulation until hyperperiod: 100\n",
      "Component Camera_Sensor: Running task Task_0 (instance 0) with remaining_wcet: 22.580645161290324, budget: inf\n",
      "Component Camera_Sensor: Task Task_0 (instance 0) completed\n",
      "Component Camera_Sensor: Running task Task_1 (instance 0) with remaining_wcet: 53.225806451612904, budget: inf\n",
      "Component Camera_Sensor: Task Task_1 (instance 0) completed\n",
      "Component Camera_Sensor: Running task Task_0 (instance 1) with remaining_wcet: 22.580645161290324, budget: inf\n",
      "Component Camera_Sensor: Task Task_0 (instance 1) completed\n",
      "Component Camera_Sensor: Running task Task_1 (instance 0) with remaining_wcet: 53.225806451612904, budget: inf\n"
     ]
    }
   ],
   "source": [
    "tiny_simulator = Simulator(tiny_system)\n",
    "tiny_simulator.run_simulation()"
   ]
  },
  {
   "cell_type": "code",
   "execution_count": 8,
   "id": "82dd35e7",
   "metadata": {},
   "outputs": [
    {
     "name": "stdout",
     "output_type": "stream",
     "text": [
      "Camera_Sensor\n",
      "[22.580645161290324, 48.38709677419355]\n",
      "[75.80645161290323]\n"
     ]
    }
   ],
   "source": [
    "for component_name, component in tiny_system.components.items():\n",
    "    print(f\"{component_name}\")\n",
    "    for task in component.tasks:\n",
    "        print(task.response_times)"
   ]
  },
  {
   "cell_type": "code",
   "execution_count": 9,
   "id": "e431e67f",
   "metadata": {},
   "outputs": [
    {
     "name": "stdout",
     "output_type": "stream",
     "text": [
      "Generated sim results\n"
     ]
    }
   ],
   "source": [
    "tiny_simulator.report(\"results_tiny.csv\")"
   ]
  }
 ],
 "metadata": {
  "kernelspec": {
   "display_name": "Python 3",
   "language": "python",
   "name": "python3"
  },
  "language_info": {
   "codemirror_mode": {
    "name": "ipython",
    "version": 3
   },
   "file_extension": ".py",
   "mimetype": "text/x-python",
   "name": "python",
   "nbconvert_exporter": "python",
   "pygments_lexer": "ipython3",
   "version": "3.10.12"
  }
 },
 "nbformat": 4,
 "nbformat_minor": 5
}
