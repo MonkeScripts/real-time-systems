{
 "cells": [
  {
   "cell_type": "code",
   "execution_count": 1,
   "metadata": {},
   "outputs": [],
   "source": [
    "import math\n",
    "\n",
    "class Task():\n",
    "    def __init__(self, name: str, period: float, bcet: float, wcet: float):\n",
    "        self.name = name\n",
    "        self.bcet = bcet\n",
    "        self.wcet = wcet\n",
    "        self.period = period\n",
    "        self.deadline = period \n",
    "        self.priority = 1.0 / period  \n",
    "        self.wcrt = 0  \n",
    "\n",
    "class RTA():\n",
    "    def __init__(self, tasks: list[Task]):\n",
    "        self.tasks = sorted(tasks, key=lambda t: t.priority, reverse=True) \n",
    "    \n",
    "    def compute_wcrt(self):\n",
    "        for i, task in enumerate(self.tasks):\n",
    "            R_old = 0\n",
    "            R_new = task.wcet\n",
    "            \n",
    "            while R_new != R_old:\n",
    "                R_old = R_new\n",
    "                interference = 0\n",
    "                for j in range(i):  \n",
    "                  interference += math.ceil(R_old / self.tasks[j].period) * self.tasks[j].wcet\n",
    "                R_new = interference + task.wcet\n",
    "                if R_new > task.deadline:\n",
    "                    print(f\"Task {task.name} is UNSCHEDULABLE\")\n",
    "                    return False\n",
    "            \n",
    "            task.wcrt = R_new\n",
    "            print(f\"Task {task.name} WCRT: {task.wcrt}\")\n",
    "        return True\n",
    "\n",
    "\n"
   ]
  },
  {
   "cell_type": "code",
   "execution_count": 2,
   "metadata": {},
   "outputs": [
    {
     "name": "stdout",
     "output_type": "stream",
     "text": [
      "Task 1 WCRT: 1\n",
      "Task 3 WCRT: 2\n",
      "Task 4 WCRT: 4\n",
      "Task 5 WCRT: 6\n",
      "Task 6 WCRT: 10\n",
      "Task 7 WCRT: 28\n",
      "Task 2 WCRT: 54\n"
     ]
    },
    {
     "data": {
      "text/plain": [
       "True"
      ]
     },
     "execution_count": 2,
     "metadata": {},
     "output_type": "execute_result"
    }
   ],
   "source": [
    "# Example usage\n",
    "tasks1 = [\n",
    " Task(1, 6, 0, 1), \n",
    "              Task(2, 60, 3, 4), \n",
    "              Task(3, 10, 1, 1),\n",
    "              Task(4, 12, 1, 2),\n",
    "              Task(5, 15, 1, 2),\n",
    "              Task(6, 20, 1, 3),\n",
    "              Task(7, 30, 1, 4),\n",
    "]\n",
    "\n",
    "rta = RTA(tasks1)\n",
    "rta.compute_wcrt()"
   ]
  },
  {
   "cell_type": "code",
   "execution_count": null,
   "metadata": {},
   "outputs": [
    {
     "name": "stdout",
     "output_type": "stream",
     "text": [
      "Task 1 WCRT: 3\n",
      "Task 2 WCRT: 10\n",
      "Task 3 WCRT: 23\n",
      "Task 4 WCRT: 44\n",
      "Task 5 WCRT: 66\n",
      "Task 6 WCRT: 116\n",
      "Task 7 WCRT: 148\n",
      "Task 8 WCRT: 258\n",
      "Task 9 WCRT: 296\n"
     ]
    },
    {
     "data": {
      "text/plain": [
       "True"
      ]
     },
     "execution_count": 3,
     "metadata": {},
     "output_type": "execute_result"
    }
   ],
   "source": [
    "# Example usage\n",
    "tasks3 = [\n",
    " Task(1, 40, 1, 3), \n",
    "              Task(2, 80, 2, 7), \n",
    "              Task(3, 100, 1, 13),\n",
    "              Task(4, 160, 3, 18),\n",
    "              Task(5, 200, 1, 22),\n",
    "              Task(6, 300, 5, 27),\n",
    "              Task(7, 320, 8, 29),\n",
    "              Task(8, 400, 10, 34),\n",
    "              Task(9, 480, 22, 35)\n",
    "]\n",
    "\n",
    "rta = RTA(tasks3)\n",
    "rta.compute_wcrt()"
   ]
  },
  {
   "cell_type": "code",
   "execution_count": null,
   "metadata": {},
   "outputs": [
    {
     "name": "stdout",
     "output_type": "stream",
     "text": [
      "15\n",
      "Task 1 WCRT: 1\n",
      "Task 10 WCRT: 12\n",
      "Task 2 WCRT: 14\n",
      "Task 3 is UNSCHEDULABLE\n"
     ]
    },
    {
     "data": {
      "text/plain": [
       "False"
      ]
     },
     "execution_count": 5,
     "metadata": {},
     "output_type": "execute_result"
    }
   ],
   "source": [
    "# Example usage\n",
    "tasks2 = [\n",
    "Task(1, 15, 0, 1), \n",
    "              Task(2, 20, 1, 2), \n",
    "              Task(3, 25, 2, 3),\n",
    "              Task(4, 30, 2, 4),\n",
    "              Task(5, 50, 3, 5),\n",
    "              Task(6, 60, 4, 6),\n",
    "              Task(7, 75, 5, 9),\n",
    "              Task(8, 100, 3, 12),\n",
    "              Task(9, 120, 5, 11),\n",
    "              Task(10, 15, 5, 11),\n",
    "              Task(11, 300, 5, 15)\n",
    "]\n",
    "rta = RTA(tasks2)\n",
    "rta.compute_wcrt()"
   ]
  }
 ],
 "metadata": {
  "kernelspec": {
   "display_name": "base",
   "language": "python",
   "name": "python3"
  },
  "language_info": {
   "codemirror_mode": {
    "name": "ipython",
    "version": 3
   },
   "file_extension": ".py",
   "mimetype": "text/x-python",
   "name": "python",
   "nbconvert_exporter": "python",
   "pygments_lexer": "ipython3",
   "version": "3.11.4"
  }
 },
 "nbformat": 4,
 "nbformat_minor": 2
}
