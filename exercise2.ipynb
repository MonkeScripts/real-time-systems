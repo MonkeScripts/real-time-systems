{
 "cells": [
  {
   "cell_type": "code",
   "execution_count": null,
   "metadata": {},
   "outputs": [],
   "source": [
    "import math\n",
    "\n",
    "class Task():\n",
    "    def __init__(self, name: str, bcet: float, wcet: float, period: float):\n",
    "        self.name = name\n",
    "        self.bcet = bcet\n",
    "        self.wcet = wcet\n",
    "        self.period = period\n",
    "        self.deadline = period \n",
    "        self.priority = 1.0 / period  \n",
    "        self.wcrt = 0  \n",
    "\n",
    "class RTA():\n",
    "    def __init__(self, tasks: list[Task]):\n",
    "        self.tasks = sorted(tasks, key=lambda t: t.priority, reverse=True) \n",
    "    \n",
    "    def compute_wcrt(self):\n",
    "        for i, task in enumerate(self.tasks):\n",
    "            R_old = 0\n",
    "            R_new = task.wcet\n",
    "            \n",
    "            while R_new != R_old:\n",
    "                R_old = R_new\n",
    "                interference = 0\n",
    "                for j in range(i):  \n",
    "                  interference += math.ceil(R_old / self.tasks[j].period) * self.tasks[j].wcet\n",
    "                R_new = interference + task.wcet\n",
    "                if R_new > task.deadline:\n",
    "                    print(f\"Task {task.name} is UNSCHEDULABLE\")\n",
    "                    return False\n",
    "            \n",
    "            task.wcrt = R_new\n",
    "            print(f\"Task {task.name} WCRT: {task.wcrt}\")\n",
    "        return True\n",
    "\n",
    "\n"
   ]
  },
  {
   "cell_type": "code",
   "execution_count": 7,
   "metadata": {},
   "outputs": [
    {
     "name": "stdout",
     "output_type": "stream",
     "text": [
      "Task Task1 WCRT: 3\n",
      "Task Task2 WCRT: 10\n",
      "Task Task3 WCRT: 23\n",
      "Task Task4 WCRT: 44\n",
      "Task Task5 WCRT: 66\n",
      "Task Task6 WCRT: 116\n",
      "Task Task7 WCRT: 148\n",
      "Task Task8 WCRT: 258\n",
      "Task Task9 WCRT: 296\n"
     ]
    },
    {
     "data": {
      "text/plain": [
       "True"
      ]
     },
     "execution_count": 7,
     "metadata": {},
     "output_type": "execute_result"
    }
   ],
   "source": [
    "# Example usage\n",
    "tasks1 = [\n",
    "    Task(name=\"Task1\", bcet=1, wcet=3, period=40),\n",
    "    Task(name=\"Task2\", bcet=2, wcet=7, period=80),\n",
    "    Task(name=\"Task3\", bcet=1, wcet=13, period=100),\n",
    "    Task(name=\"Task4\", bcet=3, wcet=18, period=160),\n",
    "    Task(name=\"Task5\", bcet=1, wcet=22, period=200),\n",
    "    Task(name=\"Task6\", bcet=5, wcet=27, period=300),\n",
    "    Task(name=\"Task7\", bcet=8, wcet=29, period=320),\n",
    "    Task(name=\"Task8\", bcet=10, wcet=34, period=400),\n",
    "    Task(name=\"Task9\", bcet=22, wcet=35, period=480),\n",
    "]\n",
    "\n",
    "rta = RTA(tasks1)\n",
    "rta.compute_wcrt()"
   ]
  },
  {
   "cell_type": "code",
   "execution_count": 10,
   "metadata": {},
   "outputs": [
    {
     "name": "stdout",
     "output_type": "stream",
     "text": [
      "Task 1 WCRT: 3\n",
      "Task 3 WCRT: 6\n",
      "Task 2 WCRT: 9\n"
     ]
    },
    {
     "data": {
      "text/plain": [
       "True"
      ]
     },
     "execution_count": 10,
     "metadata": {},
     "output_type": "execute_result"
    }
   ],
   "source": [
    "tasks3 = [\n",
    "    Task(1,  2, 3, 10),  # τ₁\n",
    "    Task(2,  2, 3, 20),\n",
    "    Task(3, 2, 3,15)\n",
    "]\n",
    "rta = RTA(tasks3)\n",
    "rta.compute_wcrt()"
   ]
  }
 ],
 "metadata": {
  "kernelspec": {
   "display_name": "base",
   "language": "python",
   "name": "python3"
  },
  "language_info": {
   "codemirror_mode": {
    "name": "ipython",
    "version": 3
   },
   "file_extension": ".py",
   "mimetype": "text/x-python",
   "name": "python",
   "nbconvert_exporter": "python",
   "pygments_lexer": "ipython3",
   "version": "3.11.4"
  }
 },
 "nbformat": 4,
 "nbformat_minor": 2
}
